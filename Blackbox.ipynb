{
 "cells": [
  {
   "cell_type": "code",
   "execution_count": null,
   "id": "5eac3c1d",
   "metadata": {},
   "outputs": [],
   "source": [
    "import tensorflow as tf\n",
    "from tensorflow import keras\n",
    "import numpy as np"
   ]
  },
  {
   "cell_type": "code",
   "execution_count": null,
   "id": "05c5f307",
   "metadata": {},
   "outputs": [],
   "source": [
    "a = np.array([0, 0, 1, 1])\n",
    "b = np.array([0, 1, 0, 1])\n",
    "\n",
    "y_and = np.array([0, 1, 1, 0])"
   ]
  },
  {
   "cell_type": "code",
   "execution_count": null,
   "id": "5db2b185",
   "metadata": {},
   "outputs": [],
   "source": [
    "total_input = []\n",
    "\n",
    "for i, j in zip(a, b):\n",
    "    input1 = []\n",
    "    input1.append(i)\n",
    "    input1.append(j)\n",
    "    total_input.append(input1)\n",
    "    \n",
    "total_input = np.array(total_input)"
   ]
  },
  {
   "cell_type": "code",
   "execution_count": null,
   "id": "99a41103",
   "metadata": {},
   "outputs": [],
   "source": [
    "x_train = []\n",
    "y_train = []\n",
    "\n",
    "for i, j in zip(total_input, y_and):\n",
    "    x_train.append(i)\n",
    "    y_train.append(j)\n",
    "    \n",
    "x_train = np.array(x_train)\n",
    "y_train = np.array(y_train)"
   ]
  },
  {
   "cell_type": "code",
   "execution_count": null,
   "id": "01ffa5d6",
   "metadata": {},
   "outputs": [],
   "source": [
    "from tensorflow.keras.layers import Input, Dense\n",
    "from tensorflow.keras.models import Sequential\n",
    "\n",
    "model = Sequential()\n",
    "model.add(Input(shape = x_train[0].shape))\n",
    "model.add(Dense(10, activation = \"relu\"))\n",
    "model.add(Dense(10, activation = \"relu\"))\n",
    "model.add(Dense(1, activation = \"sigmoid\"))\n",
    "\n",
    "model.summary()"
   ]
  },
  {
   "cell_type": "code",
   "execution_count": null,
   "id": "786a5d28",
   "metadata": {},
   "outputs": [],
   "source": [
    "model.compile(optimizer = \"adam\", loss = \"binary_crossentropy\", metrics = \"binary_accuracy\")\n",
    "model.fit(x_train, y_train, epochs = 500)\n",
    "model.predict(x_train)"
   ]
  }
 ],
 "metadata": {
  "kernelspec": {
   "display_name": "Python 3 (ipykernel)",
   "language": "python",
   "name": "python3"
  },
  "language_info": {
   "codemirror_mode": {
    "name": "ipython",
    "version": 3
   },
   "file_extension": ".py",
   "mimetype": "text/x-python",
   "name": "python",
   "nbconvert_exporter": "python",
   "pygments_lexer": "ipython3",
   "version": "3.9.7"
  }
 },
 "nbformat": 4,
 "nbformat_minor": 5
}
